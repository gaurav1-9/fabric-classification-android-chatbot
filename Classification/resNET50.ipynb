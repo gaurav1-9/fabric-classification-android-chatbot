{
 "cells": [
  {
   "cell_type": "code",
   "execution_count": 11,
   "metadata": {},
   "outputs": [],
   "source": [
    "from keras.preprocessing import image\n",
    "import numpy as np\n",
    "import tensorflow as tf\n",
    "from tensorflow.keras.models import load_model"
   ]
  },
  {
   "cell_type": "code",
   "execution_count": 12,
   "metadata": {},
   "outputs": [],
   "source": [
    "resnet_model_path = r'E:\\Programming\\VS CODE\\Python\\7th_sem\\Classification\\Test\\saved_model\\resnet50_transfer_learning_model.h5'\n",
    "resnet_model = load_model(resnet_model_path)"
   ]
  },
  {
   "cell_type": "code",
   "execution_count": 13,
   "metadata": {},
   "outputs": [
    {
     "name": "stdout",
     "output_type": "stream",
     "text": [
      "1/1 [==============================] - 1s 896ms/step\n",
      "[0.09820282 0.90179724]\n"
     ]
    }
   ],
   "source": [
    "# input_image_path = r'C:\\Users\\Wrishav\\OneDrive\\Desktop\\New folder\\Muga\\1.jpg'\n",
    "input_image_path = r'C:\\Users\\Wrishav\\OneDrive\\Desktop\\New folder\\Tass\\37.jpg'\n",
    "\n",
    "img = image.load_img(input_image_path, target_size=(200, 200))\n",
    "x = image.img_to_array(img)\n",
    "x = np.expand_dims(x, axis=0)\n",
    "images = np.vstack([x])\n",
    "\n",
    "prediction = resnet_model.predict(images)\n",
    "print(prediction[0])"
   ]
  }
 ],
 "metadata": {
  "kernelspec": {
   "display_name": "Python 3",
   "language": "python",
   "name": "python3"
  },
  "language_info": {
   "codemirror_mode": {
    "name": "ipython",
    "version": 3
   },
   "file_extension": ".py",
   "mimetype": "text/x-python",
   "name": "python",
   "nbconvert_exporter": "python",
   "pygments_lexer": "ipython3",
   "version": "3.10.2"
  }
 },
 "nbformat": 4,
 "nbformat_minor": 2
}
